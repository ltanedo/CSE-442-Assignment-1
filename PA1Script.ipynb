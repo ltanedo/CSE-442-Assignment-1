{
 "cells": [
  {
   "cell_type": "code",
   "execution_count": 1,
   "metadata": {},
   "outputs": [],
   "source": [
    "import math\n",
    "import random\n",
    "import numpy as np\n",
    "from scipy.optimize import minimize\n",
    "import matplotlib.pyplot as plt\n",
    "import pickle\n",
    "from sklearn.datasets import make_classification"
   ]
  },
  {
   "cell_type": "markdown",
   "metadata": {},
   "source": [
    "## Part 1 - Linear Regression"
   ]
  },
  {
   "cell_type": "markdown",
   "metadata": {},
   "source": [
    "### Problem 1 - Linear Regression with Direct Minimization"
   ]
  },
  {
   "cell_type": "code",
   "execution_count": 2,
   "metadata": {},
   "outputs": [
    {
     "name": "stdout",
     "output_type": "stream",
     "text": [
      "PROBLEM 1\n",
      "----------\n"
     ]
    }
   ],
   "source": [
    "print('PROBLEM 1')\n",
    "print('----------')"
   ]
  },
  {
   "cell_type": "code",
   "execution_count": 3,
   "metadata": {},
   "outputs": [],
   "source": [
    "def learnOLERegression(X,y):\n",
    "    # Inputs:                                                         \n",
    "    # X = N x d \n",
    "    # y = N x 1                                                               \n",
    "    # Output: \n",
    "    # w = d x 1 \n",
    "    \n",
    "\n",
    "    # IMPLEMENT THIS METHOD - REMOVE THE NEXT LINE\n",
    "    XTrans = np.transpose(X)\n",
    "    w = np.matmul((np.linalg.inv(np.matmul(XTrans, X))), np.matmul(XTrans, y))\n",
    "    return w"
   ]
  },
  {
   "cell_type": "code",
   "execution_count": 4,
   "metadata": {},
   "outputs": [],
   "source": [
    "def testOLERegression(w,Xtest,ytest):\n",
    "    # Inputs:\n",
    "    # w = d x 1\n",
    "    # Xtest = N x d\n",
    "    # ytest = N x 1\n",
    "    # Output:\n",
    "    # rmse = scalar value\n",
    "\n",
    "    # IMPLEMENT THIS METHOD - REMOVE THE NEXT LINEN = Xtest.shape[0]\n",
    "    \n",
    "    N = Xtest.shape[0]\n",
    "    \n",
    "    sumUp = 0\n",
    "    \n",
    "    for i in range(0,N):\n",
    "        eq = ytest[i] - np.dot(np.transpose(w), Xtest[i])\n",
    "        sumUp += eq * eq\n",
    "        \n",
    "    rmse = math.sqrt(sumUp / N)\n",
    "    #print(str(rmse))\n",
    "    \n",
    "    \n",
    "    #rmse = 0\n",
    "    return rmse"
   ]
  },
  {
   "cell_type": "code",
   "execution_count": 5,
   "metadata": {},
   "outputs": [
    {
     "name": "stdout",
     "output_type": "stream",
     "text": [
      "RMSE without intercept on train data - 138.20\n",
      "RMSE with intercept on train data - 46.77\n",
      "RMSE without intercept on test data - 326.76\n",
      "RMSE with intercept on test data - 60.89\n"
     ]
    }
   ],
   "source": [
    "Xtrain,ytrain,Xtest,ytest = pickle.load(open('diabetes.pickle','rb'),encoding='latin1')   \n",
    "# add intercept\n",
    "x1 = np.ones((len(Xtrain),1))\n",
    "x2 = np.ones((len(Xtest),1))\n",
    "\n",
    "Xtrain_i = np.concatenate((np.ones((Xtrain.shape[0],1)), Xtrain), axis=1)\n",
    "Xtest_i = np.concatenate((np.ones((Xtest.shape[0],1)), Xtest), axis=1)\n",
    "\n",
    "w = learnOLERegression(Xtrain,ytrain)\n",
    "w_i = learnOLERegression(Xtrain_i,ytrain)\n",
    "\n",
    "rmse = testOLERegression(w,Xtrain,ytrain)\n",
    "rmse_i = testOLERegression(w_i,Xtrain_i,ytrain)\n",
    "print('RMSE without intercept on train data - %.2f'%rmse)\n",
    "print('RMSE with intercept on train data - %.2f'%rmse_i)\n",
    "\n",
    "rmse = testOLERegression(w,Xtest,ytest)\n",
    "rmse_i = testOLERegression(w_i,Xtest_i,ytest)\n",
    "print('RMSE without intercept on test data - %.2f'%rmse)\n",
    "print('RMSE with intercept on test data - %.2f'%rmse_i)\n"
   ]
  },
  {
   "cell_type": "markdown",
   "metadata": {},
   "source": [
    "PART 1 REPORT:\n",
    "RMSE without intercept on train data - 138.20\n",
    "RMSE without intercept on test data - 326.76\n",
    "RMSE with intercept on train data - 46.77\n",
    "RMSE with intercept on test data - 60.89\n",
    "As you can see, it is better to use an intercept, as the resulting RMSE (error) is much lower."
   ]
  },
  {
   "cell_type": "code",
   "execution_count": 6,
   "metadata": {},
   "outputs": [],
   "source": [
    "# Problem 2 - Linear Regression with Gradient Descent"
   ]
  },
  {
   "cell_type": "code",
   "execution_count": 7,
   "metadata": {
    "scrolled": true
   },
   "outputs": [
    {
     "name": "stdout",
     "output_type": "stream",
     "text": [
      "PROBLEM 2\n",
      "----------\n"
     ]
    }
   ],
   "source": [
    "print('PROBLEM 2')\n",
    "print('----------')"
   ]
  },
  {
   "cell_type": "code",
   "execution_count": 8,
   "metadata": {},
   "outputs": [],
   "source": [
    "def regressionObjVal(w, X, y):\n",
    "\n",
    "    # compute squared error (scalar) with respect\n",
    "    # to w (vector) for the given data X and y      \n",
    "    #\n",
    "    # Inputs:\n",
    "    # w = d x 1\n",
    "    # X = N x d\n",
    "    # y = N x 1\n",
    "    # Output:\n",
    "    # error = scalar value \n",
    "    \n",
    "    # IMPLEMENT THIS METHOD - REMOVE THE NEXT LINE\n",
    "    \n",
    "    #w = np.transpose(w)\n",
    "    #X = np.transpose(X)\n",
    "\n",
    "    w = w[:,np.newaxis] # think of this as adding a dummy column into the vector\n",
    "    \n",
    "    first = np.dot(X,w)\n",
    "    #print('first ',first.shape)\n",
    "    second = y - first\n",
    "    #print('second ',second.shape)\n",
    "    third =  np.matmul(np.transpose(second),second) \n",
    "    \n",
    "    #fourth = np.sum(third)\n",
    "    #print('fourth ',fourth.shape)\n",
    "\n",
    "    fifth = .5 * third[0][0] \n",
    "    #print('error = ',fifth)\n",
    "    \n",
    "    error = fifth\n",
    "    #print('third ',third[0][0])\n",
    "\n",
    "    #error = 0\n",
    "    \n",
    "    return error"
   ]
  },
  {
   "cell_type": "code",
   "execution_count": 9,
   "metadata": {},
   "outputs": [],
   "source": [
    "def regressionGradient(w, X, y):\n",
    "\n",
    "    # compute gradient of squared error (scalar) with respect\n",
    "    # to w (vector) for the given data X and y   \n",
    "    \n",
    "    # Inputs:\n",
    "    # w = d x 1\n",
    "    # X = N x d\n",
    "    # y = N x 1\n",
    "    # Output:\n",
    "    # gradient = d length vector (not a d x 1 matrix)\n",
    "\n",
    "    # IMPLEMENT THIS METHOD - REMOVE THE NEXT LINE \n",
    "    w = w[:,np.newaxis] # think of this as adding a dummy column into the vector\n",
    "    \n",
    "    #print(\"w: \"+str(w.shape)+\"\\nX: \"+str(X.shape)+\"\\ny: \"+str(y.shape))\n",
    "    \n",
    "    first = np.dot(X,w)\n",
    "    #print(\"Xw: \" +str(first.shape))\n",
    "    \n",
    "    second = np.matmul(np.transpose(X), first)\n",
    "    third = np.matmul(np.transpose(X), y)\n",
    "    \n",
    "    #print(\"XTXw: \"+str(second.shape))\n",
    "    #print(\"XTy: \"+str(third.shape))\n",
    "\n",
    "    result = second - third\n",
    "    #print('part2 res ', result.shape)\n",
    "    #result = np.sum(result, axis=0)\n",
    "    #result = result[:,np.newaxis]\n",
    "    #print('part2 res ', result.shape)\n",
    "\n",
    "    \n",
    "    error_grad = result.flatten()\n",
    "    #print('error_grad = ', error_grad)\n",
    "    #print('error_grad shape = ', error_grad.shape)\n",
    "\n",
    "    \n",
    "    return error_grad"
   ]
  },
  {
   "cell_type": "code",
   "execution_count": 10,
   "metadata": {},
   "outputs": [
    {
     "name": "stdout",
     "output_type": "stream",
     "text": [
      "Gradient Descent Linear Regression RMSE on train data - 47.87\n",
      "Gradient Descent Linear Regression RMSE on test data - 55.35\n"
     ]
    }
   ],
   "source": [
    "Xtrain,ytrain,Xtest,ytest = pickle.load(open('diabetes.pickle','rb'),encoding='latin1')   \n",
    "# add intercept\n",
    "Xtrain_i = np.concatenate((np.ones((Xtrain.shape[0],1)), Xtrain), axis=1)\n",
    "Xtest_i = np.concatenate((np.ones((Xtest.shape[0],1)), Xtest), axis=1)\n",
    "args = (Xtrain_i,ytrain)\n",
    "opts = {'maxiter' : 50}    # Preferred value.    \n",
    "w_init = np.zeros((Xtrain_i.shape[1],1))\n",
    "#print(str(w_init.shape))\n",
    "#print(str(w))\n",
    "soln = minimize(regressionObjVal, w_init, jac=regressionGradient, args=args,method='CG', options=opts)\n",
    "w = np.transpose(np.array(soln.x))\n",
    "w = w[:,np.newaxis]\n",
    "rmse = testOLERegression(w,Xtrain_i,ytrain)\n",
    "print('Gradient Descent Linear Regression RMSE on train data - %.2f'%rmse)\n",
    "rmse = testOLERegression(w,Xtest_i,ytest)\n",
    "print('Gradient Descent Linear Regression RMSE on test data - %.2f'%rmse)"
   ]
  },
  {
   "cell_type": "markdown",
   "metadata": {},
   "source": [
    "## Part 2 - Linear Classification"
   ]
  },
  {
   "cell_type": "markdown",
   "metadata": {},
   "source": [
    "### Problem 3 - Perceptron using Gradient Descent"
   ]
  },
  {
   "cell_type": "code",
   "execution_count": 11,
   "metadata": {},
   "outputs": [
    {
     "name": "stdout",
     "output_type": "stream",
     "text": [
      "PROBLEM 3\n",
      "----------\n"
     ]
    }
   ],
   "source": [
    "print('PROBLEM 3')\n",
    "print('----------')"
   ]
  },
  {
   "cell_type": "code",
   "execution_count": 12,
   "metadata": {},
   "outputs": [],
   "source": [
    "def predictLinearModel(w,Xtest):\n",
    "        # Inputs:\\n\",\n",
    "        # w = d x 1\\n\",\n",
    "        # Xtest = N x d\\n\",\n",
    "        # Output:\\n\",\n",
    "        # ypred = N x 1 vector of predictions\\n\",\n",
    "    \n",
    "        # IMPLEMENT THIS METHOD - REMOVE THE NEXT LINE\\n\",\n",
    "        # ypred = np.zeros([Xtest.shape[0],1])\\n\",\n",
    "        index = 0\n",
    "        ypred = np.matmul(Xtest,w)\n",
    "#         print(\"ypred: \",ypred)\n",
    "        while index < len(ypred):\n",
    "            if (ypred[index] < 0):\n",
    "                ypred[index] = -1\n",
    "            if (ypred[index]>=0):\n",
    "                ypred[index] = 1\n",
    "            index += 1\n",
    "        return ypred"
   ]
  },
  {
   "cell_type": "code",
   "execution_count": 13,
   "metadata": {},
   "outputs": [],
   "source": [
    "def evaluateLinearModel(w,Xtest,ytest):\n",
    "        # Inputs:\\n\",\n",
    "        # w = d x 1\\n\",\n",
    "        # Xtest = N x d\\n\",\n",
    "        # ytest = N x 1\\n\",\n",
    "        # Output:\\n\",\n",
    "        # acc = scalar values\\n\",\n",
    "    \n",
    "        # IMPLEMENT THIS METHOD - REMOVE THE NEXT LINE\\n\",\n",
    "        acc = 0\n",
    "        ypred = predictLinearModel(w,Xtest)\n",
    "#         global count\n",
    "#         global correct\n",
    "        count = 0\n",
    "        correct = 0\n",
    "        for yp, y in zip(ypred,ytest):\n",
    "            if yp == y:\n",
    "                correct = correct+1\n",
    "            count+=1\n",
    "        # print(correct)\n",
    "        # print(count)\n",
    "        acc = correct/count\n",
    "        return acc"
   ]
  },
  {
   "cell_type": "code",
   "execution_count": 14,
   "metadata": {},
   "outputs": [
    {
     "name": "stdout",
     "output_type": "stream",
     "text": [
      "     fun: 25.608973399473562\n",
      "     jac: array([9.59232693e-14, 3.01980663e-13, 5.96855898e-13])\n",
      " message: 'Optimization terminated successfully.'\n",
      "    nfev: 7\n",
      "     nit: 3\n",
      "    njev: 7\n",
      "  status: 0\n",
      " success: True\n",
      "       x: array([-0.0881355 ,  0.28506787, -0.44939862])\n",
      "Perceptron Accuracy on train data - 0.84\n",
      "Perceptron Accuracy on test data - 0.84\n"
     ]
    }
   ],
   "source": [
    "Xtrain,ytrain, Xtest, ytest = np.load(open('sample.pickle','rb')) \n",
    "# add intercept\n",
    "Xtrain_i = np.concatenate((np.ones((Xtrain.shape[0],1)), Xtrain), axis=1)\n",
    "Xtest_i = np.concatenate((np.ones((Xtest.shape[0],1)), Xtest), axis=1)\n",
    "\n",
    "args = (Xtrain_i,ytrain)\n",
    "opts = {'maxiter' : 50}    # Preferred value.    \n",
    "w_init = np.zeros((Xtrain_i.shape[1],1))\n",
    "soln = minimize(regressionObjVal, w_init, jac=regressionGradient, args=args,method='CG', options=opts)\n",
    "w = np.transpose(np.array(soln.x))\n",
    "w = w[:,np.newaxis]\n",
    "print(soln)\n",
    "acc = evaluateLinearModel(w,Xtrain_i,ytrain)\n",
    "print('Perceptron Accuracy on train data - %.2f'%acc)\n",
    "acc = evaluateLinearModel(w,Xtest_i,ytest)\n",
    "print('Perceptron Accuracy on test data - %.2f'%acc)"
   ]
  },
  {
   "cell_type": "markdown",
   "metadata": {},
   "source": [
    "### Problem 4 - Logistic Regression Using Newton's Method"
   ]
  },
  {
   "cell_type": "code",
   "execution_count": 15,
   "metadata": {},
   "outputs": [
    {
     "name": "stdout",
     "output_type": "stream",
     "text": [
      "PROBLEM 4\n",
      "----------\n"
     ]
    }
   ],
   "source": [
    "print('PROBLEM 4')\n",
    "print('----------')"
   ]
  },
  {
   "cell_type": "code",
   "execution_count": 60,
   "metadata": {},
   "outputs": [],
   "source": [
    "def logisticObjVal(w, X, y):\n",
    "\n",
    "    # compute log-loss error (scalar) with respect\n",
    "    # to w (vector) for the given data X and y                               \n",
    "    # Inputs:\n",
    "    # w = d x 1\n",
    "    # X = N x d\n",
    "    # y = N x 1\n",
    "    # Output:\n",
    "    # error = scalar\n",
    "    \n",
    "    #final val\n",
    "    error = 0\n",
    "    \n",
    "    #loop\n",
    "    for i in range(0,np.size(X,0)):\n",
    "    \n",
    "        #inner\n",
    "        inner = math.log(1 + math.exp(y[i][0] * np.dot(np.transpose(w).flatten(),X[i])))\n",
    "        #print('inner -', inner)\n",
    "        \n",
    "        #add inner\n",
    "        error = error + inner\n",
    "    \n",
    "    error = error / np.size(X,0)\n",
    "    #print('error',error)\n",
    "\n",
    "    return error"
   ]
  },
  {
   "cell_type": "code",
   "execution_count": 69,
   "metadata": {},
   "outputs": [],
   "source": [
    "def logisticGradient(w, X, y):\n",
    "\n",
    "    # compute the gradient of the log-loss error (vector) with respect\n",
    "    # to w (vector) for the given data X and y  \n",
    "    #\n",
    "    # Inputs:\n",
    "    # w = d x 1\n",
    "    # X = N x d\n",
    "    # y = N x 1\n",
    "    # Output:\n",
    "    # error = d length gradient vector (not a d x 1 matrix)\n",
    "\n",
    "    #fix here\n",
    "    if len(w.shape) == 1:\n",
    "        w = w[:,np.newaxis]\n",
    "        \n",
    "    #final answer\n",
    "    gradient = np.zeros((w.shape[0],))\n",
    "    temp = np.zeros((w.shape[0],))\n",
    "   \n",
    "    #test\n",
    "    \n",
    "    \n",
    "    #go through rows\n",
    "    for i in range(np.size(X,0)):\n",
    "        \n",
    "        #inner\n",
    "        inner = y[i] / (1 + math.exp(y[i][0] * np.dot(np.transpose(w).flatten(),X[i])))\n",
    "        inner = inner * X[i]\n",
    "        inner = -1 * (inner / np.size(X,0))\n",
    "                \n",
    "        inner_array = np.array(inner)\n",
    "        temp[0] += inner[0]\n",
    "        temp[1] += inner[1]\n",
    "        temp[2] += inner[2]\n",
    "    \n",
    "    gradient = temp.flatten()\n",
    "        \n",
    "    return gradient\n"
   ]
  },
  {
   "cell_type": "code",
   "execution_count": 75,
   "metadata": {},
   "outputs": [],
   "source": [
    "def logisticHessian(w, X, y):\n",
    "\n",
    "    # compute the Hessian of the log-loss error (matrix) with respect\n",
    "    # to w (vector) for the given data X and y                               \n",
    "    #\n",
    "    # Inputs:\n",
    "    # w = d x 1\n",
    "    # X = N x d\n",
    "    # y = N x 1\n",
    "    # Output:\n",
    "    # Hessian = d x d matrix\n",
    "    \n",
    "    if len(w.shape) == 1:\n",
    "        w = w[:,np.newaxis]\n",
    "        \n",
    "    #final answer\n",
    "    hessian = np.eye(X.shape[1])\n",
    "    \n",
    "    #go through rows\n",
    "    for i in range(np.size(X,0)):\n",
    "        \n",
    "        #inner\n",
    "        inner = y[i] / (1 + math.exp(y[i][0] * np.dot(np.transpose(w).flatten(),X[i])))\n",
    "        inner = inner * np.matmul(X[i],np.transpose(X[i]))\n",
    "        inner = (inner / np.size(X,0))\n",
    "        \n",
    "        \n",
    "    #print(inner)\n",
    "    #size checks\n",
    "    #print(X.shape)\n",
    "    #print(w.shape)\n",
    "        \n",
    "    # IMPLEMENT THIS METHOD - REMOVE THE NEXT LINE\n",
    "    \n",
    "    return hessian"
   ]
  },
  {
   "cell_type": "code",
   "execution_count": 76,
   "metadata": {
    "scrolled": false
   },
   "outputs": [
    {
     "name": "stdout",
     "output_type": "stream",
     "text": [
      "     fun: 0.6931471805599458\n",
      "     jac: array([-0.04      , -0.09373781,  0.49113201])\n",
      " message: 'Warning: Desired error not necessarily achieved due to precision loss.'\n",
      "    nfev: 22\n",
      "    nhev: 1\n",
      "     nit: 0\n",
      "    njev: 10\n",
      "  status: 2\n",
      " success: False\n",
      "       x: array([0., 0., 0.])\n",
      "Logistic Regression Accuracy on train data - 0.54\n",
      "Logistic Regression Accuracy on test data - 0.45\n"
     ]
    }
   ],
   "source": [
    "Xtrain,ytrain, Xtest, ytest = np.load(open('sample.pickle','rb')) \n",
    "# add intercept\n",
    "Xtrain_i = np.concatenate((np.ones((Xtrain.shape[0],1)), Xtrain), axis=1)\n",
    "Xtest_i = np.concatenate((np.ones((Xtest.shape[0],1)), Xtest), axis=1)\n",
    "\n",
    "args = (Xtrain_i,ytrain)\n",
    "opts = {'maxiter' : 50}    # Preferred value.    \n",
    "w_init = np.zeros((Xtrain_i.shape[1],1))\n",
    "soln = minimize(logisticObjVal, w_init, jac=logisticGradient, hess=logisticHessian, args=args,method='Newton-CG', options=opts)\n",
    "w = np.transpose(np.array(soln.x))\n",
    "w = np.reshape(w,[len(w),1])\n",
    "print(soln)\n",
    "acc = evaluateLinearModel(w,Xtrain_i,ytrain)\n",
    "print('Logistic Regression Accuracy on train data - %.2f'%acc)\n",
    "acc = evaluateLinearModel(w,Xtest_i,ytest)\n",
    "print('Logistic Regression Accuracy on test data - %.2f'%acc)"
   ]
  },
  {
   "cell_type": "markdown",
   "metadata": {},
   "source": [
    "### Problem 5 - Support Vector Machines Using Gradient Descent"
   ]
  },
  {
   "cell_type": "code",
   "execution_count": 20,
   "metadata": {},
   "outputs": [
    {
     "name": "stdout",
     "output_type": "stream",
     "text": [
      "PROBLEM 5\n",
      "----------\n"
     ]
    }
   ],
   "source": [
    "print('PROBLEM 5')\n",
    "print('----------')"
   ]
  },
  {
   "cell_type": "code",
   "execution_count": 21,
   "metadata": {},
   "outputs": [],
   "source": [
    "def trainSGDSVM(X,y,T,eta=0.01):\n",
    "    # learn a linear SVM by implementing the SGD algorithm\n",
    "    #\n",
    "    # Inputs:\n",
    "    # X = N x d\n",
    "    # y = N x 1\n",
    "    # T = number of iterations\n",
    "    # eta = learning rate\n",
    "    # Output:\n",
    "    # weight vector, w = d x 1\n",
    "    \n",
    "    # IMPLEMENT THIS METHOD\n",
    "    w = np.zeros([X.shape[1],1])\n",
    "\n",
    "#     print(\"X: \",X.shape)\n",
    "#     print(\"y: \",y.shape)\n",
    "#     print(\"w: \",w.shape)\n",
    "    \n",
    "    for t in range(1,T+1):\n",
    "        i = random.randint(0,X.shape[0] - 1)\n",
    "        \n",
    "#         print(\"yi: \",y[i].shape,\", \",y[i][0])\n",
    "#         print(\"wT: \",(np.transpose(w).flatten()).shape,\", \",np.transpose(w).flatten())\n",
    "#         print(\"xi: \",X[i].shape,\", \",X[i])\n",
    "  \n",
    "#         print(\"w: \",w)\n",
    "        \n",
    "        check = y[i][0] * np.dot(np.transpose(w).flatten(),X[i])\n",
    "#         print(\"w: \",w.shape)\n",
    "#         print(\"check: \", check)\n",
    "        if(check < 1):\n",
    "            additive = (eta * y[i][0]) * X[i]\n",
    "            additive = additive[:,np.newaxis]\n",
    "            w = w + additive\n",
    "    return w"
   ]
  },
  {
   "cell_type": "code",
   "execution_count": 22,
   "metadata": {
    "scrolled": true
   },
   "outputs": [
    {
     "name": "stdout",
     "output_type": "stream",
     "text": [
      "SVM Accuracy on train data - 0.84\n",
      "SVM Accuracy on test data - 0.87\n",
      "\n",
      "--------\n",
      "PART 5 REPORT:\n",
      "SVM Accuracy on train data - 0.85\n",
      "SVM Accuracy on test data - 0.87\n"
     ]
    }
   ],
   "source": [
    "Xtrain,ytrain, Xtest, ytest = np.load(open('sample.pickle','rb')) \n",
    "# add intercept\n",
    "Xtrain_i = np.concatenate((np.ones((Xtrain.shape[0],1)), Xtrain), axis=1)\n",
    "Xtest_i = np.concatenate((np.ones((Xtest.shape[0],1)), Xtest), axis=1)\n",
    "\n",
    "args = (Xtrain_i,ytrain)\n",
    "w = trainSGDSVM(Xtrain_i,ytrain,100,0.01)\n",
    "acc = evaluateLinearModel(w,Xtrain_i,ytrain)\n",
    "print('SVM Accuracy on train data - %.2f'%acc)\n",
    "acc = evaluateLinearModel(w,Xtest_i,ytest)\n",
    "print('SVM Accuracy on test data - %.2f'%acc)\n",
    "\n",
    "print(\"\\n--------\\nPART 5 REPORT:\")\n",
    "args = (Xtrain_i,ytrain)\n",
    "w = trainSGDSVM(Xtrain_i,ytrain,200,0.01)\n",
    "acc = evaluateLinearModel(w,Xtrain_i,ytrain)\n",
    "print('SVM Accuracy on train data - %.2f'%acc)\n",
    "acc = evaluateLinearModel(w,Xtest_i,ytest)\n",
    "print('SVM Accuracy on test data - %.2f'%acc)"
   ]
  },
  {
   "cell_type": "markdown",
   "metadata": {},
   "source": [
    "When calling the 'trainSGDSVM' method for 200 iterations with learning parameter set to 0.01, the SVM Accuracy was as follows:\n",
    "SVM Accuracy on train data - 0.85\n",
    "SVM Accuracy on test data - 0.87"
   ]
  },
  {
   "cell_type": "markdown",
   "metadata": {},
   "source": [
    "### Problem 6 - Plotting decision boundaries"
   ]
  },
  {
   "cell_type": "code",
   "execution_count": 23,
   "metadata": {},
   "outputs": [
    {
     "name": "stdout",
     "output_type": "stream",
     "text": [
      "Problem 6\n",
      "---------\n"
     ]
    }
   ],
   "source": [
    "print('Problem 6')\n",
    "print('---------')"
   ]
  },
  {
   "cell_type": "code",
   "execution_count": 24,
   "metadata": {},
   "outputs": [],
   "source": [
    "def plotBoundaries(w,X,y):\n",
    "    # plotting boundaries\n",
    "\n",
    "    mn = np.min(X,axis=0)\n",
    "    mx = np.max(X,axis=0)\n",
    "    x1 = np.linspace(mn[1],mx[1],100)\n",
    "    x2 = np.linspace(mn[2],mx[2],100)\n",
    "    xx1,xx2 = np.meshgrid(x1,x2)\n",
    "    xx = np.zeros((x1.shape[0]*x2.shape[0],2))\n",
    "    xx[:,0] = xx1.ravel()\n",
    "    xx[:,1] = xx2.ravel()\n",
    "    xx_i = np.concatenate((np.ones((xx.shape[0],1)), xx), axis=1)\n",
    "    ypred = predictLinearModel(w,xx_i)\n",
    "    ax.contourf(x1,x2,ypred.reshape((x1.shape[0],x2.shape[0])),alpha=0.3,cmap='cool')\n",
    "    ax.scatter(X[:,1],X[:,2],c=y.flatten())"
   ]
  },
  {
   "cell_type": "code",
   "execution_count": 25,
   "metadata": {},
   "outputs": [
    {
     "name": "stdout",
     "output_type": "stream",
     "text": [
      "[[ 0.05      ]\n",
      " [ 0.39338586]\n",
      " [-0.78307028]]\n",
      "[[ 0.04      ]\n",
      " [ 0.23359074]\n",
      " [-0.60619968]]\n"
     ]
    },
    {
     "data": {
      "text/plain": [
       "Text(0.5, 1.0, 'SVM')"
      ]
     },
     "execution_count": 25,
     "metadata": {},
     "output_type": "execute_result"
    },
    {
     "data": {
      "image/png": "[encoded data removed]",
      "text/plain": [
       "<Figure size 1440x432 with 3 Axes>"
      ]
     },
     "metadata": {
      "needs_background": "light"
     },
     "output_type": "display_data"
    }
   ],
   "source": [
    "Xtrain,ytrain, Xtest, ytest = np.load(open('sample.pickle','rb')) \n",
    "# add intercept\n",
    "Xtrain_i = np.concatenate((np.ones((Xtrain.shape[0],1)), Xtrain), axis=1)\n",
    "Xtest_i = np.concatenate((np.ones((Xtest.shape[0],1)), Xtest), axis=1)\n",
    "\n",
    "# Replace next three lines with code for learning w using the three methods\n",
    "\n",
    "#Prob 3\n",
    "args = (Xtrain_i,ytrain)\n",
    "opts = {'maxiter' : 50}    # Preferred value.    \n",
    "w_init = np.zeros((Xtrain_i.shape[1],1))\n",
    "soln = minimize(regressionObjVal, w_init, jac=regressionGradient, args=args,method='CG', options=opts)\n",
    "w_perceptron = np.transpose(np.array(soln.x))\n",
    "w_perceptron = np.reshape(w,[len(w),1])\n",
    "print(w_perceptron)\n",
    "\n",
    "#Prob 4\n",
    "soln = minimize(logisticObjVal, w_init, jac=logisticGradient, hess=logisticHessian, args=args,method='Newton-CG', options=opts)\n",
    "w_logistic = np.transpose(np.array(soln.x))\n",
    "w_logistic = np.reshape(w,[len(w),1])\n",
    "\n",
    "#Prob 5\n",
    "w_svm = trainSGDSVM(Xtrain_i,ytrain,100,0.01)\n",
    "print(w_svm)\n",
    "\n",
    "fig = plt.figure(figsize=(20,6))\n",
    "\n",
    "ax = plt.subplot(1,3,1)\n",
    "plotBoundaries(w_perceptron,Xtrain_i,ytrain)\n",
    "ax.set_title('Perceptron')\n",
    "\n",
    "ax = plt.subplot(1,3,2)\n",
    "plotBoundaries(w_logistic,Xtrain_i,ytrain)\n",
    "ax.set_title('Logistic Regression')\n",
    "\n",
    "ax = plt.subplot(1,3,3)\n",
    "plotBoundaries(w_svm,Xtrain_i,ytrain)\n",
    "ax.set_title('SVM')"
   ]
  },
  {
   "cell_type": "code",
   "execution_count": null,
   "metadata": {},
   "outputs": [],
   "source": []
  }
 ],
 "metadata": {
  "anaconda-cloud": {},
  "kernelspec": {
   "display_name": "Python 3",
   "language": "python",
   "name": "python3"
  },
  "language_info": {
   "codemirror_mode": {
    "name": "ipython",
    "version": 3
   },
   "file_extension": ".py",
   "mimetype": "text/x-python",
   "name": "python",
   "nbconvert_exporter": "python",
   "pygments_lexer": "ipython3",
   "version": "3.7.1"
  }
 },
 "nbformat": 4,
 "nbformat_minor": 1
}
